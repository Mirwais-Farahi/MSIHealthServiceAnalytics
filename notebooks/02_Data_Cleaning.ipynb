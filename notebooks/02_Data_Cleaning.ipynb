{
 "cells": [
  {
   "cell_type": "markdown",
   "metadata": {},
   "source": [
    "# Data Cleaning"
   ]
  },
  {
   "cell_type": "code",
   "execution_count": 4,
   "metadata": {},
   "outputs": [
    {
     "ename": "ModuleNotFoundError",
     "evalue": "No module named 'src'",
     "output_type": "error",
     "traceback": [
      "\u001b[1;31m---------------------------------------------------------------------------\u001b[0m",
      "\u001b[1;31mModuleNotFoundError\u001b[0m                       Traceback (most recent call last)",
      "Cell \u001b[1;32mIn[4], line 3\u001b[0m\n\u001b[0;32m      1\u001b[0m \u001b[38;5;66;03m# Importing necessary libraries\u001b[39;00m\n\u001b[0;32m      2\u001b[0m \u001b[38;5;28;01mimport\u001b[39;00m \u001b[38;5;21;01mpandas\u001b[39;00m \u001b[38;5;28;01mas\u001b[39;00m \u001b[38;5;21;01mpd\u001b[39;00m\n\u001b[1;32m----> 3\u001b[0m \u001b[38;5;28;01mfrom\u001b[39;00m \u001b[38;5;21;01msrc\u001b[39;00m\u001b[38;5;21;01m.\u001b[39;00m\u001b[38;5;21;01mutils\u001b[39;00m \u001b[38;5;28;01mimport\u001b[39;00m load_data\n",
      "\u001b[1;31mModuleNotFoundError\u001b[0m: No module named 'src'"
     ]
    }
   ],
   "source": [
    "# Importing necessary libraries\n",
    "import pandas as pd\n",
    "from src.utils import load_data"
   ]
  },
  {
   "cell_type": "code",
   "execution_count": 3,
   "metadata": {},
   "outputs": [],
   "source": [
    "pd.set_option('display.max_columns', None)\n",
    "pd.set_option('display.max_rows', None)"
   ]
  },
  {
   "cell_type": "code",
   "execution_count": 18,
   "metadata": {},
   "outputs": [
    {
     "name": "stdout",
     "output_type": "stream",
     "text": [
      "<class 'pandas.core.frame.DataFrame'>\n",
      "RangeIndex: 334 entries, 0 to 333\n",
      "Columns: 306 entries, Start to _index\n",
      "dtypes: datetime64[ns](4), float64(123), int64(37), object(142)\n",
      "memory usage: 798.6+ KB\n"
     ]
    }
   ],
   "source": [
    "# Read the dataset\n",
    "file_path = '../data/raw/MSI_2024_CEI_data_afghanistan_2025-01-12.xlsx'\n",
    "\n",
    "df = pd.read_excel(file_path)\n",
    "\n",
    "df.info()"
   ]
  },
  {
   "cell_type": "code",
   "execution_count": 8,
   "metadata": {},
   "outputs": [
    {
     "data": {
      "text/plain": [
       "['Start',\n",
       " 'End',\n",
       " 'Deviceid',\n",
       " 'Phone Number',\n",
       " 'Subscription',\n",
       " 'Sim Serial',\n",
       " 'Welcome to the MSI client exit interview survey. Please complete the following information before starting the interview.',\n",
       " 'Did the client consent for sharing anonymous (non-identifiable) data with other organisations, partners, and researchers outside of MSI?',\n",
       " \"Enter today's date\",\n",
       " 'Enter the service delivery channel',\n",
       " 'Enter the name of the Centre',\n",
       " 'Enter the name of the Outreach site',\n",
       " 'Enter the name of the Social Franchise',\n",
       " 'Enter the name of the MS Lady/ site',\n",
       " 'Enter the name of the PSS site',\n",
       " 'Enter the name of the site',\n",
       " 'Enter facility/site region',\n",
       " 'Enter type of location',\n",
       " 'Enumerator ID',\n",
       " 'Read to the respondent: “During this survey, I will ask you some questions about the services you received today and your past service use. I realize some of these questions may be sensitive, but these questions help us to understand what our clients’ experiences are with our services, and the more we understand, the better services we can provide. Your answers will not affect the service you receive or the price you pay, now or in the future. If you do not feel comfortable at any point, please let me know. Remember that you may decline to answer any question or end the interview at any time.\"',\n",
       " 'How long did it take you to travel here today?',\n",
       " 'Hours:',\n",
       " 'Minutes:',\n",
       " 'Did you receive a contraceptive method and/or have a contraception method removed today?',\n",
       " 'Did you receive a contraceptive method and/or have a contraception method removed today?/Contraceptive method(s) received',\n",
       " 'Did you receive a contraceptive method and/or have a contraception method removed today?/Contraceptive method removed',\n",
       " 'Did you receive a contraceptive method and/or have a contraception method removed today?/No contraceptive method received or removed',\n",
       " \"Did you receive a contraceptive method and/or have a contraception method removed today?/Don't know\",\n",
       " 'Did you receive a contraceptive method and/or have a contraception method removed today?/Refused',\n",
       " 'What method(s) of contraception did you receive today?',\n",
       " 'What method(s) of contraception did you receive today?/Female sterilisation/tubal ligation',\n",
       " 'What method(s) of contraception did you receive today?/Male sterilisation/vasectomy',\n",
       " 'What method(s) of contraception did you receive today?/Intra-uterine system or device',\n",
       " 'What method(s) of contraception did you receive today?/Implant',\n",
       " 'What method(s) of contraception did you receive today?/Injectable contraception',\n",
       " 'What method(s) of contraception did you receive today?/Contraceptive pills, non-emergency',\n",
       " 'What method(s) of contraception did you receive today?/Male condoms',\n",
       " 'What method(s) of contraception did you receive today?/Female condoms',\n",
       " 'What method(s) of contraception did you receive today?/Emergency contraceptive pill',\n",
       " 'What method(s) of contraception did you receive today?/Other modern method - diaphragm, foam tablets, spermicidal jelly, vaginal ring, contraceptive patches',\n",
       " 'What method(s) of contraception did you receive today?/Refused',\n",
       " 'calculation_FP',\n",
       " 'For the ${calculation_FP} service you received today, do you know of another provider offering this method/ service that you could go to?',\n",
       " 'Were you told where you could go to have your ${calculation_FP} removed?',\n",
       " 'Which contraceptive method did you have removed today?',\n",
       " 'calculation_FPREM',\n",
       " 'Why did you have your ${calculation_FPREM} removed today?',\n",
       " 'Can you please tell me what side-effects you experienced?',\n",
       " 'Can you please tell me what side-effects you experienced?/Changes to menstrual cycle',\n",
       " 'Can you please tell me what side-effects you experienced?/Pain or infection',\n",
       " 'Can you please tell me what side-effects you experienced?/Mood Changes',\n",
       " 'Can you please tell me what side-effects you experienced?/Health concerns',\n",
       " 'Can you please tell me what side-effects you experienced?/Weight gain',\n",
       " 'Can you please tell me what side-effects you experienced?/Other',\n",
       " 'Can you please tell me what side-effects you experienced?/Refused',\n",
       " 'For the ${calculation_FPREM} that you had removed today, please tell me where you had this method inserted?',\n",
       " 'Read to the respondent: \"The following questions ask how potential pain was explained and managed for the ${calculation_FPREM} you had removed today.\"',\n",
       " 'Did the provider explain to you the possibility of experiencing pain during your process or procedure?',\n",
       " 'Did the provider explain different options to manage the pain throughout the procedure?',\n",
       " 'What options were explained to you?',\n",
       " 'What options were explained to you?/Local anaesthesia',\n",
       " 'What options were explained to you?/Medication for anxiety',\n",
       " 'What options were explained to you?/Vocal local',\n",
       " 'What options were explained to you?/Other',\n",
       " \"What options were explained to you?/Don't know\",\n",
       " 'What options were explained to you?/Refused',\n",
       " 'What options were explained to you?.1',\n",
       " 'What options were explained to you?/Oral analgesics',\n",
       " 'What options were explained to you?/Local cream/spray on cervix',\n",
       " 'What options were explained to you?/Paracervical block (injection next to the cervix)',\n",
       " 'What options were explained to you?/Vocal local.1',\n",
       " 'What options were explained to you?/Other.1',\n",
       " \"What options were explained to you?/Don't know.1\",\n",
       " 'What options were explained to you?/Refused.1',\n",
       " 'Were you offered pain medication before the procedure?',\n",
       " 'From 0-10, what was your pain during the procedure?',\n",
       " 'Were you asked about pain during the procedure?',\n",
       " 'Were you offered pain medication during the procedure?',\n",
       " 'From 0-10, what was your pain after the procedure?',\n",
       " 'Were you asked about pain after the procedure?',\n",
       " 'Were you offered pain medication after the procedure?',\n",
       " 'Did you feel that the provider was respectful and responsive to your pain?',\n",
       " 'What other service(s) did you receive today?',\n",
       " 'What other service(s) did you receive today?/Post abortion care',\n",
       " 'What other service(s) did you receive today?/Contraceptive counselling',\n",
       " 'What other service(s) did you receive today?/Pregnancy test',\n",
       " 'What other service(s) did you receive today?/HIV testing/treatment',\n",
       " 'What other service(s) did you receive today?/Other STI testing/treatment',\n",
       " 'What other service(s) did you receive today?/Cervical cancer screening/treatment',\n",
       " 'What other service(s) did you receive today?/General maternal/child health service',\n",
       " 'What other service(s) did you receive today?/General health consultation',\n",
       " 'What other service(s) did you receive today?/Other SRH service',\n",
       " 'What other service(s) did you receive today?/Other general health service',\n",
       " 'What other service(s) did you receive today?/None',\n",
       " 'What other service(s) did you receive today?/Refused',\n",
       " 'What other service(s) did you receive today?.1',\n",
       " 'What other service(s) did you receive today?/Post abortion care.1',\n",
       " 'What other service(s) did you receive today?/Contraceptive counselling.1',\n",
       " 'What other service(s) did you receive today?/Pregnancy test.1',\n",
       " 'What other service(s) did you receive today?/HIV testing/treatment.1',\n",
       " 'What other service(s) did you receive today?/Other STI testing/treatment.1',\n",
       " 'What other service(s) did you receive today?/Cervical cancer screening/treatment.1',\n",
       " 'What other service(s) did you receive today?/Antenatal Care',\n",
       " 'What other service(s) did you receive today?/Delivery Care',\n",
       " 'What other service(s) did you receive today?/Postnatal Care',\n",
       " 'What other service(s) did you receive today?/General maternal and child health consultation/service',\n",
       " 'What other service(s) did you receive today?/General health consultation.1',\n",
       " 'What other service(s) did you receive today?/Other SRH service.1',\n",
       " 'What other service(s) did you receive today?/Other general health service.1',\n",
       " 'What other service(s) did you receive today?/None.1',\n",
       " 'What other service(s) did you receive today?/Refused.1',\n",
       " 'What method of post abortion care did you have or begin today?',\n",
       " 'calculation_SAC',\n",
       " 'Service_Received',\n",
       " 'Read to the respondent: \"The following questions ask about any contraception you have used previously and your current preferences.\"',\n",
       " 'Have you ever used a method of contraception before today?',\n",
       " 'Do you currently want to be using any method of contraception?',\n",
       " 'Have you or your partner used any method of contraception during the past 3 months?',\n",
       " 'What was the main method of contraception that you were using in the past 3 months prior to your visit today?',\n",
       " 'Prev_FPmethod',\n",
       " 'Prior to your visit today, where did you get the ${Prev_FPmethod} that you were using most recently?',\n",
       " 'Have you or your partner/s used any additional methods of contraception in the past 3 months?',\n",
       " 'Please specify all additional method/s of contraception you or your partner/s have used in the past 3 months.',\n",
       " 'Please specify all additional method/s of contraception you or your partner/s have used in the past 3 months./Female sterilisation',\n",
       " 'Please specify all additional method/s of contraception you or your partner/s have used in the past 3 months./Male sterilisation',\n",
       " 'Please specify all additional method/s of contraception you or your partner/s have used in the past 3 months./IUD/IUS',\n",
       " 'Please specify all additional method/s of contraception you or your partner/s have used in the past 3 months./Implants',\n",
       " 'Please specify all additional method/s of contraception you or your partner/s have used in the past 3 months./Injectables',\n",
       " 'Please specify all additional method/s of contraception you or your partner/s have used in the past 3 months./Contraceptive pills',\n",
       " 'Please specify all additional method/s of contraception you or your partner/s have used in the past 3 months./Male condoms',\n",
       " 'Please specify all additional method/s of contraception you or your partner/s have used in the past 3 months./Female condoms',\n",
       " 'Please specify all additional method/s of contraception you or your partner/s have used in the past 3 months./Emergency contraception',\n",
       " 'Please specify all additional method/s of contraception you or your partner/s have used in the past 3 months./Breast-feeding: lactational amenorrhea method',\n",
       " 'Please specify all additional method/s of contraception you or your partner/s have used in the past 3 months./Other modern method: diaphragm, foam tablets, spermicidal jelly, vaginal ring, contraceptive patches, fertility awareness mobile app, standard days method',\n",
       " 'Please specify all additional method/s of contraception you or your partner/s have used in the past 3 months./Traditional methods: Fertility awareness, calendar (rhythm), withdrawal, abstinence',\n",
       " 'Please specify all additional method/s of contraception you or your partner/s have used in the past 3 months./Refused',\n",
       " 'Prior to your visit today, did you want to be using the ${Prev_FPmethod}?',\n",
       " 'You said that you sometimes use ${Prev_FPmethod}. Have there been times that you wanted to use this method of contraception but were unable to?',\n",
       " 'Some people choose to use a method of contraception soon after an abortion, others decide to wait to start a method, and others may decide not to use a method of contraception. Did the provider counsel you on your options for contraception use following your abortion service today?',\n",
       " 'When you came here today, did you want to receive a method of contraception from this facility/site?',\n",
       " 'When you came here today, was there a specific method of contraception you wanted to get?',\n",
       " 'Which method did you want to get when you came here today?',\n",
       " 'Did you receive a method of contraception, or a referral to receive a method of contraception today?',\n",
       " 'Did you receive the method you wanted, or a referral for the method you wanted today?',\n",
       " \"What was the main reason you didn't receive a method or a referral for a method of contraception today?\",\n",
       " \"What was the main reason you didn't receive the method that you wanted?\",\n",
       " 'You mentioned that you did not want or weren’t sure if you wanted a method of contraception, but you still got a method from this facility.\\nWhy did you get a method even though you did not want one?',\n",
       " 'Enter reason provided for receiving a method of contraception:',\n",
       " 'Did the provider tell you about any potential side effects or problems you may experience from the contraceptive method/s  that you received today?',\n",
       " 'Were you told what to do if you experience any side effects or problems as a result of the contraceptive method/s that you received today?',\n",
       " 'Were you told about the possibility of switching to another method if the method/s you received was not suitable?',\n",
       " 'Were you told by the provider about other methods of contraception besides the contraceptive method/s that you received?',\n",
       " 'Which of the following contraceptive methods were you told about during your consultation with the provider today?',\n",
       " 'Which of the following contraceptive methods were you told about during your consultation with the provider today?/Female sterilisation',\n",
       " 'Which of the following contraceptive methods were you told about during your consultation with the provider today?/Male sterilisation',\n",
       " 'Which of the following contraceptive methods were you told about during your consultation with the provider today?/IUD/IUS',\n",
       " 'Which of the following contraceptive methods were you told about during your consultation with the provider today?/Implants',\n",
       " 'Which of the following contraceptive methods were you told about during your consultation with the provider today?/Injectables',\n",
       " 'Which of the following contraceptive methods were you told about during your consultation with the provider today?/Contraceptive pills',\n",
       " 'Which of the following contraceptive methods were you told about during your consultation with the provider today?/Male condoms',\n",
       " 'Which of the following contraceptive methods were you told about during your consultation with the provider today?/Female condoms',\n",
       " 'Which of the following contraceptive methods were you told about during your consultation with the provider today?/Emergency contraception',\n",
       " 'Which of the following contraceptive methods were you told about during your consultation with the provider today?/Breast-feeding: lactational amenorrhea method',\n",
       " 'Which of the following contraceptive methods were you told about during your consultation with the provider today?/Other modern method: diaphragm, foam tablets, spermicidal jelly, vaginal ring, contraceptive patches, fertility awareness mobile app, standard days method',\n",
       " 'Which of the following contraceptive methods were you told about during your consultation with the provider today?/Traditional methods: Fertility awareness, calendar (rhythm), withdrawal, abstinence',\n",
       " \"Which of the following contraceptive methods were you told about during your consultation with the provider today?/Don't know\",\n",
       " 'Read to the respondent: \"The following questions ask more generally about your experience accessing our services today.\"',\n",
       " 'On a scale of 0 to 10, how important do you think the service(s) you received today are in having control over your own body?',\n",
       " 'Do you feel that the service(s) you received today will have a positive impact on any of the following areas of your life?',\n",
       " 'Do you feel that the service(s) you received today will have a positive impact on any of the following areas of your life?/Education (continue education, return to education, support a child through school)',\n",
       " 'Do you feel that the service(s) you received today will have a positive impact on any of the following areas of your life?/Work (continue to work, return to work, progress in work)',\n",
       " 'Do you feel that the service(s) you received today will have a positive impact on any of the following areas of your life?/Family (support family, increased resources for family, manage family)',\n",
       " 'Do you feel that the service(s) you received today will have a positive impact on any of the following areas of your life?/Health (better personal health, better family health)',\n",
       " 'Do you feel that the service(s) you received today will have a positive impact on any of the following areas of your life?/Other',\n",
       " 'Do you feel that the service(s) you received today will have a positive impact on any of the following areas of your life?/None',\n",
       " \"Do you feel that the service(s) you received today will have a positive impact on any of the following areas of your life?/Don't know\",\n",
       " 'Do you feel that the service(s) you received today will have a positive impact on any of the following areas of your life?/Refused',\n",
       " 'Based on your experience today, how likely are you to recommend our services to your friends or family?',\n",
       " 'Based on your experience today, if you needed a similar service in the future, how likely is it that you would return to this site or provider?',\n",
       " 'Read out to respondent: \"Now I would like you to score different aspects of the services provided at this facility. Please let me know, for each of these statements, whether you strongly disagree, disagree, neither agree nor disagree, agree, or strongly agree.\"',\n",
       " 'I had enough privacy during my visit today',\n",
       " 'I was treated with respect by all staff during my visit today',\n",
       " 'The time I waited to see a provider today was acceptable',\n",
       " 'The provider was easy to understand',\n",
       " 'The provider gave me enough information to make the best decisions about my method or service',\n",
       " 'The provider took my preferences seriously',\n",
       " 'The provider gave me the opportunity to explain my needs and ask questions',\n",
       " 'All staff members made me comfortable during my visit today',\n",
       " 'Read out to respondent: \"We have finished the questions that require you to answer according to an agreement scale, and will now ask you a few more questions about your experience with us.\"',\n",
       " 'Overall, how satisfied are you with your experience with us today?',\n",
       " 'Was it clear to you what hours the facility was open/when you could come in to receive services today?',\n",
       " 'Were you informed on how to give feedback or complain about your experience today?',\n",
       " 'Do you trust the provider to keep your personal information private?',\n",
       " 'Read to the respondent: \"The following questions ask how potential pain was explained and managed for the ${calculation_FP} method you received today. \"',\n",
       " 'Did the provider explain to you the possibility of experiencing pain during your process or procedure?.1',\n",
       " 'Did the provider explain different options to manage the pain throughout the procedure?.1',\n",
       " 'What options were explained to you?.2',\n",
       " 'What options were explained to you?/Local anaesthesia.1',\n",
       " 'What options were explained to you?/Medication for anxiety.1',\n",
       " 'What options were explained to you?/Vocal local.2',\n",
       " 'What options were explained to you?/Other.2',\n",
       " \"What options were explained to you?/Don't know.2\",\n",
       " 'What options were explained to you?/Refused.2',\n",
       " 'What options were explained to you?.3',\n",
       " 'What options were explained to you?/Oral analgesics.1',\n",
       " 'What options were explained to you?/Local cream/spray on cervix.1',\n",
       " 'What options were explained to you?/Paracervical block (injection next to the cervix).1',\n",
       " 'What options were explained to you?/Vocal local.3',\n",
       " 'What options were explained to you?/Other.3',\n",
       " \"What options were explained to you?/Don't know.3\",\n",
       " 'What options were explained to you?/Refused.3',\n",
       " 'Were you offered pain medication before the procedure?.1',\n",
       " 'From 0-10, what was your pain during the procedure?.1',\n",
       " 'Were you asked about pain during the procedure?.1',\n",
       " 'Were you offered pain medication during the procedure?.1',\n",
       " 'From 0-10, what was your pain after the procedure?.1',\n",
       " 'Were you asked about pain after the procedure?.1',\n",
       " 'Were you offered pain medication after the procedure?.1',\n",
       " 'Did you feel that the provider was respectful and responsive to your pain?.1',\n",
       " 'Read to the respondent: “Now I will ask you some questions about how you heard about the service(s) that you accessed today.”',\n",
       " 'Did any of the following play a part in making you aware of the services you received today, or influence your decision to visit today?',\n",
       " 'Did any of the following play a part in making you aware of the services you received today, or influence your decision to visit today?/TV advert or programme',\n",
       " 'Did any of the following play a part in making you aware of the services you received today, or influence your decision to visit today?/Radio advert or programme',\n",
       " 'Did any of the following play a part in making you aware of the services you received today, or influence your decision to visit today?/Newspaper/magazine',\n",
       " 'Did any of the following play a part in making you aware of the services you received today, or influence your decision to visit today?/Community meeting or event',\n",
       " 'Did any of the following play a part in making you aware of the services you received today, or influence your decision to visit today?/Website/google',\n",
       " 'Did any of the following play a part in making you aware of the services you received today, or influence your decision to visit today?/Social media',\n",
       " 'Did any of the following play a part in making you aware of the services you received today, or influence your decision to visit today?/Outdoor sign',\n",
       " 'Did any of the following play a part in making you aware of the services you received today, or influence your decision to visit today?/Loudspeaker',\n",
       " 'Did any of the following play a part in making you aware of the services you received today, or influence your decision to visit today?/Posters/leaflets/flyers',\n",
       " 'Did any of the following play a part in making you aware of the services you received today, or influence your decision to visit today?/Religious Leaders/Groups',\n",
       " 'Did any of the following play a part in making you aware of the services you received today, or influence your decision to visit today?/Other',\n",
       " 'Did any of the following play a part in making you aware of the services you received today, or influence your decision to visit today?/None',\n",
       " 'How long ago did you become aware that MSI would be providing these services at this site today?',\n",
       " 'Did anyone refer you to, or recommend, that you visit this site or provider today?',\n",
       " 'Did anyone refer you to, or recommend, that you visit this site or provider today?/Community based mobiliser',\n",
       " 'Did anyone refer you to, or recommend, that you visit this site or provider today?/Provider/staff member at a public health facility',\n",
       " 'Did anyone refer you to, or recommend, that you visit this site or provider today?/Provider/staff member at a private health facility',\n",
       " 'Did anyone refer you to, or recommend, that you visit this site or provider today?/Friend/family member who has used services from this site',\n",
       " 'Did anyone refer you to, or recommend, that you visit this site or provider today?/Friend/family member who has not used MSI services',\n",
       " 'Did anyone refer you to, or recommend, that you visit this site or provider today?/None',\n",
       " 'Did you speak to the MSI contact centre through phone or messaging at any point before your visit?',\n",
       " 'What was your main reason for speaking to the contact centre?',\n",
       " 'What was your main reason for speaking to the contact centre?.1',\n",
       " 'Do you have your own cell phone?',\n",
       " 'Read out to the respondent: \"I am now going to read out some statements about perceptions of family planning and health in your community. Please let me know, for each of these statements whether you strongly disagree, disagree, neither agree nor disagree, agree or strongly agree.\"',\n",
       " 'In my community, I hear positive stories about using contraception',\n",
       " 'In my community, women are stigmatised if people know that they use contraception',\n",
       " 'In my community, most men are supportive of their partner(s) using contraception',\n",
       " 'In my community, using modern contraception is accepted',\n",
       " 'In my community, local leaders encourage the use of contraception',\n",
       " 'Who usually makes decisions about any methods of contraception for yourself?',\n",
       " 'Read out to the respondent: “I would like to ask you some questions about yourself including your age and marital status, in order for us to ensure our services are reaching everyone in the community.”',\n",
       " \"Enter respondent's gender\",\n",
       " 'How old are you?',\n",
       " 'What is your highest level of education?',\n",
       " 'What is your marital status?',\n",
       " 'How many living children do you have?',\n",
       " 'When did you last give birth?',\n",
       " 'What is your ideal number of children?',\n",
       " 'What is your current occupation?',\n",
       " 'Have you ever been forced or obliged to leave your place of origin to relocate to  another region in the same country or across an international border?',\n",
       " 'Where did you move from and where did you move to?',\n",
       " 'If you feel comfortable, can you share the main reason for leaving your country / place of origin?',\n",
       " 'I will read out some reasons to you, can you please let me know what your main reason for leaving was.',\n",
       " 'Read to the respondent: “I would like to ask you some questions about difficulties you may have doing certain activities due to a health condition, as well as about your living situation more generally. I realize some of these questions seem unrelated to healthcare and may be sensitive, but they help us to understand what our clients’ living situations are like, and the more we understand the better services we can provide. Your answers will not affect the service you receive or the price you pay, now or in the future. If you do not feel comfortable at any point during the questions, please let me know. Remember that you may decline to answer any question or end the interview at any time.\"',\n",
       " 'Read to the respondent: \"Could you please indicate for the following questions whether you have no difficulty, some difficulty, a lot of difficulty, or cannot do this activity at all?\"',\n",
       " 'Do you have difficulty seeing?',\n",
       " 'Do you have difficulty hearing?',\n",
       " 'Do you have difficulty sitting, standing, walking or climbing steps?',\n",
       " 'Do you have difficulty remembering or concentrating?',\n",
       " 'Do you have difficulty with self-care?',\n",
       " 'Using your usual language, do you have difficulty communicating?',\n",
       " 'For the following questions, read the questions to the respondent exactly as they are written and do not read the answer options. Select the answer that best matches the respondent’s answer. Please complete all questions.',\n",
       " 'Have any household members completed 6 years or more of schooling?',\n",
       " 'Are all household members aged 7-15 currently attending school [or, during school breaks:] Did all household members aged 7-15 attend school during the most recent school year?',\n",
       " 'Has a household member under 18 died in your household in the past five-years?',\n",
       " \"For the next questions, do not read out answers and try and match the respondent's answers to the options. If the respondent is struggling to answer, please read out the first set of options as a prompt and / or use visual aids if you have them.\",\n",
       " 'Thinking of your home, what is the main material of your floor?',\n",
       " 'Thinking of your home, what is the main material of your walls?',\n",
       " 'Thinking of your home, what is the main material of your roof?',\n",
       " 'Is the toilet or latrine shared with other households?',\n",
       " 'What kind of toilet facility do members of your household usually use?',\n",
       " 'What type of fuel does your household mainly use for cooking?',\n",
       " 'How long does it take to get to your drinking water source, get water and come back?',\n",
       " 'What is the source of drinking water in your household?',\n",
       " 'Do you have electricity at home?',\n",
       " 'Does your household own a car or truck?',\n",
       " 'Does your household own more than one of the following assets?  Telephone, radio, TV, bicycle, motorbike, computer, animal cart or refrigerator?',\n",
       " 'unique_id1',\n",
       " 'unique_id2',\n",
       " 'unique_id3',\n",
       " 'unique_id4',\n",
       " 'unique_id5',\n",
       " '${unique_id1} ${unique_id2} ${unique_id3} ${unique_id4} ${unique_id5}',\n",
       " 'NUMBERQ',\n",
       " '_id',\n",
       " '_uuid',\n",
       " '_submission_time',\n",
       " '_validation_status',\n",
       " '_notes',\n",
       " '_status',\n",
       " '_submitted_by',\n",
       " '__version__',\n",
       " '_tags',\n",
       " '_index']"
      ]
     },
     "execution_count": 8,
     "metadata": {},
     "output_type": "execute_result"
    }
   ],
   "source": [
    "list(df.columns)"
   ]
  },
  {
   "cell_type": "code",
   "execution_count": 10,
   "metadata": {},
   "outputs": [
    {
     "name": "stdout",
     "output_type": "stream",
     "text": [
      "Empty DataFrame\n",
      "Columns: [Start, End, Deviceid, Phone Number, Subscription, Sim Serial, Welcome to the MSI client exit interview survey. Please complete the following information before starting the interview., Did the client consent for sharing anonymous (non-identifiable) data with other organisations, partners, and researchers outside of MSI?, Enter today's date, Enter the service delivery channel, Enter the name of the Centre, Enter the name of the Outreach site, Enter the name of the Social Franchise, Enter the name of the MS Lady/ site, Enter the name of the PSS site, Enter the name of the site, Enter facility/site region, Enter type of location, Enumerator ID, Read to the respondent: “During this survey, I will ask you some questions about the services you received today and your past service use. I realize some of these questions may be sensitive, but these questions help us to understand what our clients’ experiences are with our services, and the more we understand, the better services we can provide. Your answers will not affect the service you receive or the price you pay, now or in the future. If you do not feel comfortable at any point, please let me know. Remember that you may decline to answer any question or end the interview at any time.\", How long did it take you to travel here today?, Hours:, Minutes:, Did you receive a contraceptive method and/or have a contraception method removed today?, Did you receive a contraceptive method and/or have a contraception method removed today?/Contraceptive method(s) received, Did you receive a contraceptive method and/or have a contraception method removed today?/Contraceptive method removed, Did you receive a contraceptive method and/or have a contraception method removed today?/No contraceptive method received or removed, Did you receive a contraceptive method and/or have a contraception method removed today?/Don't know, Did you receive a contraceptive method and/or have a contraception method removed today?/Refused, What method(s) of contraception did you receive today?, What method(s) of contraception did you receive today?/Female sterilisation/tubal ligation, What method(s) of contraception did you receive today?/Male sterilisation/vasectomy, What method(s) of contraception did you receive today?/Intra-uterine system or device, What method(s) of contraception did you receive today?/Implant, What method(s) of contraception did you receive today?/Injectable contraception, What method(s) of contraception did you receive today?/Contraceptive pills, non-emergency, What method(s) of contraception did you receive today?/Male condoms, What method(s) of contraception did you receive today?/Female condoms, What method(s) of contraception did you receive today?/Emergency contraceptive pill, What method(s) of contraception did you receive today?/Other modern method - diaphragm, foam tablets, spermicidal jelly, vaginal ring, contraceptive patches, What method(s) of contraception did you receive today?/Refused, calculation_FP, For the ${calculation_FP} service you received today, do you know of another provider offering this method/ service that you could go to?, Were you told where you could go to have your ${calculation_FP} removed?, Which contraceptive method did you have removed today?, calculation_FPREM, Why did you have your ${calculation_FPREM} removed today?, Can you please tell me what side-effects you experienced?, Can you please tell me what side-effects you experienced?/Changes to menstrual cycle, Can you please tell me what side-effects you experienced?/Pain or infection, Can you please tell me what side-effects you experienced?/Mood Changes, Can you please tell me what side-effects you experienced?/Health concerns, Can you please tell me what side-effects you experienced?/Weight gain, Can you please tell me what side-effects you experienced?/Other, Can you please tell me what side-effects you experienced?/Refused, For the ${calculation_FPREM} that you had removed today, please tell me where you had this method inserted?, Read to the respondent: \"The following questions ask how potential pain was explained and managed for the ${calculation_FPREM} you had removed today.\", Did the provider explain to you the possibility of experiencing pain during your process or procedure?, Did the provider explain different options to manage the pain throughout the procedure?, What options were explained to you?, What options were explained to you?/Local anaesthesia, What options were explained to you?/Medication for anxiety, What options were explained to you?/Vocal local, What options were explained to you?/Other, What options were explained to you?/Don't know, What options were explained to you?/Refused, What options were explained to you?.1, What options were explained to you?/Oral analgesics, What options were explained to you?/Local cream/spray on cervix, What options were explained to you?/Paracervical block (injection next to the cervix), What options were explained to you?/Vocal local.1, What options were explained to you?/Other.1, What options were explained to you?/Don't know.1, What options were explained to you?/Refused.1, Were you offered pain medication before the procedure?, From 0-10, what was your pain during the procedure?, Were you asked about pain during the procedure?, Were you offered pain medication during the procedure?, From 0-10, what was your pain after the procedure?, Were you asked about pain after the procedure?, Were you offered pain medication after the procedure?, Did you feel that the provider was respectful and responsive to your pain?, What other service(s) did you receive today?, What other service(s) did you receive today?/Post abortion care, What other service(s) did you receive today?/Contraceptive counselling, What other service(s) did you receive today?/Pregnancy test, What other service(s) did you receive today?/HIV testing/treatment, What other service(s) did you receive today?/Other STI testing/treatment, What other service(s) did you receive today?/Cervical cancer screening/treatment, What other service(s) did you receive today?/General maternal/child health service, What other service(s) did you receive today?/General health consultation, What other service(s) did you receive today?/Other SRH service, What other service(s) did you receive today?/Other general health service, What other service(s) did you receive today?/None, What other service(s) did you receive today?/Refused, What other service(s) did you receive today?.1, What other service(s) did you receive today?/Post abortion care.1, What other service(s) did you receive today?/Contraceptive counselling.1, What other service(s) did you receive today?/Pregnancy test.1, What other service(s) did you receive today?/HIV testing/treatment.1, ...]\n",
      "Index: []\n"
     ]
    }
   ],
   "source": [
    "# 1. Validate that all respondents provided consent as yes\n",
    "print(df[df['Did the client consent for sharing anonymous (non-identifiable) data with other organisations, partners, and researchers outside of MSI?'] != '**Yes**'])"
   ]
  },
  {
   "cell_type": "code",
   "execution_count": 19,
   "metadata": {},
   "outputs": [
    {
     "data": {
      "text/plain": [
       "array([datetime.date(2024, 12, 18), datetime.date(2024, 12, 19),\n",
       "       datetime.date(2024, 12, 21), datetime.date(2024, 12, 22),\n",
       "       datetime.date(2024, 12, 23), datetime.date(2024, 12, 24),\n",
       "       datetime.date(2024, 12, 25)], dtype=object)"
      ]
     },
     "execution_count": 19,
     "metadata": {},
     "output_type": "execute_result"
    }
   ],
   "source": [
    "# 2. Remove surveys which are collected on December 17th of any time\n",
    "df_removed_date = df[df['Start'].dt.date != pd.Timestamp('2024-12-17').date()]\n",
    "df_removed_date['Start'].dt.date.unique()"
   ]
  },
  {
   "cell_type": "code",
   "execution_count": 22,
   "metadata": {},
   "outputs": [
    {
     "name": "stdout",
     "output_type": "stream",
     "text": [
      "[datetime.date(2024, 12, 17) datetime.date(2024, 12, 18)\n",
      " datetime.date(2024, 12, 19) datetime.date(2024, 12, 21)\n",
      " datetime.date(2024, 12, 22) datetime.date(2024, 12, 23)\n",
      " datetime.date(2024, 12, 24) datetime.date(2024, 12, 25)]\n",
      "<class 'pandas.core.frame.DataFrame'>\n",
      "RangeIndex: 334 entries, 0 to 333\n",
      "Columns: 306 entries, Start to _index\n",
      "dtypes: datetime64[ns](4), float64(123), int64(37), object(142)\n",
      "memory usage: 798.6+ KB\n",
      "None\n"
     ]
    }
   ],
   "source": [
    "print(df['Start'].dt.date.unique())\n",
    "print(df.info())"
   ]
  },
  {
   "cell_type": "code",
   "execution_count": 23,
   "metadata": {},
   "outputs": [
    {
     "name": "stdout",
     "output_type": "stream",
     "text": [
      "<class 'pandas.core.frame.DataFrame'>\n",
      "Index: 329 entries, 5 to 333\n",
      "Columns: 306 entries, Start to _index\n",
      "dtypes: datetime64[ns](4), float64(123), int64(37), object(142)\n",
      "memory usage: 789.1+ KB\n"
     ]
    }
   ],
   "source": [
    "df_removed_date.info()"
   ]
  },
  {
   "cell_type": "code",
   "execution_count": 24,
   "metadata": {},
   "outputs": [
    {
     "name": "stdout",
     "output_type": "stream",
     "text": [
      "<class 'pandas.core.frame.DataFrame'>\n",
      "Index: 329 entries, 5 to 333\n",
      "Columns: 304 entries, Start to _index\n",
      "dtypes: datetime64[ns](4), float64(121), int64(37), object(142)\n",
      "memory usage: 783.9+ KB\n"
     ]
    }
   ],
   "source": [
    "# 3. Drop Columns 'Enter the name of the Social Franchise' and 'Enter the name of the PSS site' as they are null\n",
    "df_removed_cols = df_removed_date.drop(['Enter the name of the Social Franchise', 'Enter the name of the PSS site'], axis=1)\n",
    "df_removed_cols.info()"
   ]
  },
  {
   "cell_type": "code",
   "execution_count": 26,
   "metadata": {},
   "outputs": [
    {
     "name": "stdout",
     "output_type": "stream",
     "text": [
      "<class 'pandas.core.frame.DataFrame'>\n",
      "Index: 329 entries, 5 to 333\n",
      "Columns: 304 entries, Start to _index\n",
      "dtypes: datetime64[ns](4), float64(121), int64(37), object(142)\n",
      "memory usage: 783.9+ KB\n"
     ]
    }
   ],
   "source": [
    "# 4. Change the content of column Enter facility/site region from other to Central\n",
    "df_change_region = df_removed_cols.replace('Other', 'Central')\n",
    "df_change_region.info()"
   ]
  },
  {
   "cell_type": "code",
   "execution_count": 27,
   "metadata": {},
   "outputs": [
    {
     "name": "stdout",
     "output_type": "stream",
     "text": [
      "Filtered data saved\n"
     ]
    }
   ],
   "source": [
    "# save the cleaned data\n",
    "df_change_region.to_excel('../data/interim/cleaned_MSI_2024_CEI_data_afghanistan_2025-01-12.xlsx', index=False)\n",
    "\n",
    "print(f\"Filtered data saved\")"
   ]
  },
  {
   "cell_type": "code",
   "execution_count": null,
   "metadata": {},
   "outputs": [],
   "source": []
  }
 ],
 "metadata": {
  "kernelspec": {
   "display_name": "base",
   "language": "python",
   "name": "python3"
  },
  "language_info": {
   "codemirror_mode": {
    "name": "ipython",
    "version": 3
   },
   "file_extension": ".py",
   "mimetype": "text/x-python",
   "name": "python",
   "nbconvert_exporter": "python",
   "pygments_lexer": "ipython3",
   "version": "3.11.5"
  }
 },
 "nbformat": 4,
 "nbformat_minor": 2
}
